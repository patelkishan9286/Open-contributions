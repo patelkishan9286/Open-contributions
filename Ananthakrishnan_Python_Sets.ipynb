{
 "cells": [
  {
   "cell_type": "markdown",
   "metadata": {},
   "source": [
    "## Python Sets\n",
    "#### A set is a collection which is unordered and unindexed. In Python, sets are written with curly brackets."
   ]
  },
  {
   "cell_type": "code",
   "execution_count": 22,
   "metadata": {},
   "outputs": [
    {
     "name": "stdout",
     "output_type": "stream",
     "text": [
      "{'Swift', 'Verna', 'WagonR'}\n"
     ]
    }
   ],
   "source": [
    "#Create a Set:\n",
    "car = {\"WagonR\", \"Swift\", \"Verna\"}\n",
    "print(car)\n",
    "\n",
    "# Note: the set list is unordered, meaning: the items will appear in a random order.\n",
    "# Note: Sets are unordered, so you cannot be sure in which order the items will appear. "
   ]
  },
  {
   "cell_type": "code",
   "execution_count": 24,
   "metadata": {},
   "outputs": [
    {
     "name": "stdout",
     "output_type": "stream",
     "text": [
      "Intial blank Set: \n",
      "set()\n",
      "\n",
      "Set with the use of String: \n",
      "{'y', 'f', 'i', 'c', 'n', 's', 't', 'o', 'v', 'V', 'M', 'e', 'a', 'r'}\n",
      "\n",
      "Set with the use of an Object: \n",
      "{'y', 'f', 'i', 'c', 'n', 's', 't', 'o', 'v', 'V', 'M', 'e', 'a', 'r'}\n",
      "\n",
      "Set with the use of List: \n",
      "{'WagonR', 'Verna', 'Swift'}\n"
     ]
    }
   ],
   "source": [
    "# Python program to demonstrate  \n",
    "# Creation of Set in Python \n",
    "  \n",
    "# Creating a Set \n",
    "set1 = set() \n",
    "print(\"Intial blank Set: \") \n",
    "print(set1) \n",
    "  \n",
    "# Creating a Set with  \n",
    "# the use of a String \n",
    "set1 = set(\"MyfavoriatecarisVerna\") \n",
    "print(\"\\nSet with the use of String: \") \n",
    "print(set1) \n",
    "  \n",
    "# Creating a Set with \n",
    "# the use of Constructor \n",
    "# (Using object to Store String) \n",
    "String = 'MyfavoriatecarisVerna'\n",
    "set1 = set(String) \n",
    "print(\"\\nSet with the use of an Object: \" ) \n",
    "print(set1) \n",
    "  \n",
    "# Creating a Set with \n",
    "# the use of a List \n",
    "set1 = set([\"Swift\" , \"Verna\" ,  \"WagonR\", \"Verna\" ]) \n",
    "print(\"\\nSet with the use of List: \") \n",
    "print(set1)"
   ]
  },
  {
   "cell_type": "markdown",
   "metadata": {},
   "source": [
    "#### Sets can be created by using the built-in set() function with an iterable object or a sequence by placing the sequence inside curly braces, separated by ‘comma’.\n",
    "#### Note – A set cannot have mutable elements like a list, set or dictionary, as its elements.\n",
    "\n"
   ]
  },
  {
   "cell_type": "code",
   "execution_count": 25,
   "metadata": {},
   "outputs": [
    {
     "name": "stdout",
     "output_type": "stream",
     "text": [
      "Intial blank Set: \n",
      "set()\n",
      "\n",
      "Set with the use of String: \n",
      "{'y', 'f', 'i', 'c', 'n', 's', 't', 'o', 'v', 'V', 'M', 'e', 'a', 'r'}\n",
      "\n",
      "Set with the use of an Object: \n",
      "{'y', 'f', 'i', 'c', 'n', 's', 't', 'o', 'v', 'V', 'M', 'e', 'a', 'r'}\n",
      "\n",
      "Set with the use of List: \n",
      "{'WagonR', 'Verna', 'Swift'}\n"
     ]
    }
   ],
   "source": [
    "# Python program to demonstrate  \n",
    "# Creation of Set in Python \n",
    "  \n",
    "# Creating a Set \n",
    "set1 = set() \n",
    "print(\"Intial blank Set: \") \n",
    "print(set1) \n",
    "  \n",
    "# Creating a Set with  \n",
    "# the use of a String \n",
    "set1 = set(\"MyfavoriatecarisVerna\") \n",
    "print(\"\\nSet with the use of String: \") \n",
    "print(set1) \n",
    "  \n",
    "# Creating a Set with \n",
    "# the use of Constructor \n",
    "# (Using object to Store String) \n",
    "String = 'MyfavoriatecarisVerna'\n",
    "set1 = set(String) \n",
    "print(\"\\nSet with the use of an Object: \" ) \n",
    "print(set1) \n",
    "  \n",
    "# Creating a Set with \n",
    "# the use of a List \n",
    "set1 = set([\"Swift\" , \"Verna\" ,  \"WagonR\", \"Verna\" ]) \n",
    "print(\"\\nSet with the use of List: \") \n",
    "print(set1)"
   ]
  },
  {
   "cell_type": "markdown",
   "metadata": {},
   "source": [
    "#### A set contains only unique elements but at the time of set creation, multiple duplicate values can also be passed. Order of elements in a set is undefined and is unchangeable. Type of elements in a set need not be the same, various mixed up data type values can also be passed to the set.\n",
    "\n"
   ]
  },
  {
   "cell_type": "code",
   "execution_count": 26,
   "metadata": {},
   "outputs": [
    {
     "name": "stdout",
     "output_type": "stream",
     "text": [
      "\n",
      "Set with the use of Numbers: \n",
      "{1, 2, 3, 4, 5, 6}\n",
      "\n",
      "Set with the use of Mixed Values\n",
      "{1, 2, 4, 'WagonR', 6, 'Verna', 'Swift'}\n"
     ]
    }
   ],
   "source": [
    "# Creating a Set with \n",
    "# a List of Numbers \n",
    "# (Having duplicate values) \n",
    "set1 = set([1, 2, 4, 4, 3, 3, 3, 6, 5]) \n",
    "print(\"\\nSet with the use of Numbers: \") \n",
    "print(set1) \n",
    "\n",
    "# Creating a Set with \n",
    "# a mixed type of values \n",
    "# (Having numbers and strings) \n",
    "set1 = set([1, 2, 'WagonR', 4, 'Swift', 6, 'Verna']) \n",
    "print(\"\\nSet with the use of Mixed Values\") \n",
    "print(set1) \n"
   ]
  },
  {
   "cell_type": "markdown",
   "metadata": {},
   "source": [
    "## Access Items\n",
    " #### You cannot access items in a set by referring to an index or a key.\n",
    " #### But you can loop through the set items using a for loop, or ask if a specified value is present in a set, by using the in keyword. "
   ]
  },
  {
   "cell_type": "code",
   "execution_count": 35,
   "metadata": {},
   "outputs": [
    {
     "name": "stdout",
     "output_type": "stream",
     "text": [
      "\n",
      "Initial set\n",
      "{'Swift', 'or', 'WagonR'}\n",
      "\n",
      "Elements of set: \n",
      "Swift or WagonR \n",
      "\n",
      "True\n",
      "\n",
      "\n",
      "False\n"
     ]
    }
   ],
   "source": [
    "# Python program to demonstrate \n",
    "# Accessing of elements in a set \n",
    "\n",
    "# Creating a set \n",
    "set1 = set([\"WagonR\", \"or\", \"Swift\"]) \n",
    "print(\"\\nInitial set\") \n",
    "print(set1) \n",
    "\n",
    "# Accessing element using \n",
    "# for loop \n",
    "print(\"\\nElements of set: \") \n",
    "for i in set1: \n",
    "     print(i, end=\" \") \n",
    "\n",
    "# Checking the element \n",
    "# using in keyword \n",
    "print(\"\\n\")\n",
    "print(\"WagonR\" in set1) \n",
    "print(\"\\n\")\n",
    "print(\"Verna\" in set1) \n"
   ]
  },
  {
   "cell_type": "markdown",
   "metadata": {},
   "source": [
    "#### Check if \"EccoSport\" is present in the set:"
   ]
  },
  {
   "cell_type": "code",
   "execution_count": 36,
   "metadata": {},
   "outputs": [
    {
     "name": "stdout",
     "output_type": "stream",
     "text": [
      "True\n"
     ]
    }
   ],
   "source": [
    "carset = {\"Verna\", \"Innova\", \"EccoSport\"}\n",
    "\n",
    "print(\"EccoSport\" in carset)"
   ]
  },
  {
   "cell_type": "markdown",
   "metadata": {},
   "source": [
    "## Adding Elements to a Set\n",
    "#### Using add() method"
   ]
  },
  {
   "cell_type": "code",
   "execution_count": 41,
   "metadata": {},
   "outputs": [
    {
     "name": "stdout",
     "output_type": "stream",
     "text": [
      "Intial blank Set: \n",
      "set()\n",
      "\n",
      "Set after Addition of Three elements: \n",
      "{8, 9, (6, 7)}\n",
      "\n",
      "Set after Addition of elements from 1-5: \n",
      "{1, 2, 3, 4, 5, 8, 9, (6, 7)}\n"
     ]
    }
   ],
   "source": [
    "# Python program to demonstrate \n",
    "# Addition of elements in a Set \n",
    "\n",
    "# Creating a Set \n",
    "set1 = set() \n",
    "print(\"Intial blank Set: \") \n",
    "print(set1) \n",
    "\n",
    "# Adding element and tuple to the Set \n",
    "set1.add(8) \n",
    "set1.add(9) \n",
    "set1.add((6,7)) \n",
    "print(\"\\nSet after Addition of Three elements: \") \n",
    "print(set1) \n",
    "\n",
    "# Adding elements to the Set \n",
    "# using Iterator \n",
    "for i in range(1, 6): \n",
    "\tset1.add(i) \n",
    "print(\"\\nSet after Addition of elements from 1-5: \") \n",
    "print(set1) \n"
   ]
  },
  {
   "cell_type": "code",
   "execution_count": 43,
   "metadata": {},
   "outputs": [
    {
     "name": "stdout",
     "output_type": "stream",
     "text": [
      "{'EccoSport', 'Verna', 'Innova', 'Skoda'}\n"
     ]
    }
   ],
   "source": [
    "carset = {\"Verna\", \"Innova\", \"EccoSport\"}\n",
    "\n",
    "carset.add(\"Skoda\")\n",
    "\n",
    "print(carset)"
   ]
  },
  {
   "cell_type": "markdown",
   "metadata": {},
   "source": [
    "#### Using update() method"
   ]
  },
  {
   "cell_type": "code",
   "execution_count": 50,
   "metadata": {},
   "outputs": [
    {
     "name": "stdout",
     "output_type": "stream",
     "text": [
      "\n",
      "Set after Addition of elements using Update: \n",
      "{4, 5, 6, 7, 10, 11, 'Verna', 'Swift', (12, 14)}\n"
     ]
    }
   ],
   "source": [
    "# Python program to demonstrate \n",
    "# Addition of elements in a Set \n",
    "\n",
    "# Addition of elements to the Set \n",
    "# using Update function \n",
    "set1 = set([ 4, 5, 6 , 7 , (12 , 14 ) , 'Verna' , 'Swift' ]  ) \n",
    "set1.update([10, 11]) \n",
    "print(\"\\nSet after Addition of elements using Update: \") \n",
    "print(set1) "
   ]
  },
  {
   "cell_type": "markdown",
   "metadata": {},
   "source": [
    "## Removing elements from the Set\n",
    "#### Using remove() method or discard() method"
   ]
  },
  {
   "cell_type": "code",
   "execution_count": 54,
   "metadata": {},
   "outputs": [
    {
     "name": "stdout",
     "output_type": "stream",
     "text": [
      "{'EccoSport', 'Verna'}\n"
     ]
    }
   ],
   "source": [
    "carset = {\"Verna\", \"Innova\", \"EccoSport\"}\n",
    "\n",
    "carset.remove(\"Innova\")\n",
    "\n",
    "print(carset)\n"
   ]
  },
  {
   "cell_type": "markdown",
   "metadata": {},
   "source": [
    "#### Note: If the item to remove does not exist, remove() will raise an error."
   ]
  },
  {
   "cell_type": "code",
   "execution_count": 57,
   "metadata": {},
   "outputs": [
    {
     "ename": "KeyError",
     "evalue": "'Tavera'",
     "output_type": "error",
     "traceback": [
      "\u001b[1;31m---------------------------------------------------------------------------\u001b[0m",
      "\u001b[1;31mKeyError\u001b[0m                                  Traceback (most recent call last)",
      "\u001b[1;32m<ipython-input-57-16037c5daaf0>\u001b[0m in \u001b[0;36m<module>\u001b[1;34m\u001b[0m\n\u001b[0;32m      1\u001b[0m \u001b[0mcarset\u001b[0m \u001b[1;33m=\u001b[0m \u001b[1;33m{\u001b[0m\u001b[1;34m\"Verna\"\u001b[0m\u001b[1;33m,\u001b[0m \u001b[1;34m\"Innova\"\u001b[0m\u001b[1;33m,\u001b[0m \u001b[1;34m\"EccoSport\"\u001b[0m\u001b[1;33m}\u001b[0m\u001b[1;33m\u001b[0m\u001b[1;33m\u001b[0m\u001b[0m\n\u001b[0;32m      2\u001b[0m \u001b[1;33m\u001b[0m\u001b[0m\n\u001b[1;32m----> 3\u001b[1;33m \u001b[0mcarset\u001b[0m\u001b[1;33m.\u001b[0m\u001b[0mremove\u001b[0m\u001b[1;33m(\u001b[0m\u001b[1;34m\"Tavera\"\u001b[0m\u001b[1;33m)\u001b[0m\u001b[1;33m\u001b[0m\u001b[1;33m\u001b[0m\u001b[0m\n\u001b[0m\u001b[0;32m      4\u001b[0m \u001b[1;33m\u001b[0m\u001b[0m\n\u001b[0;32m      5\u001b[0m \u001b[0mprint\u001b[0m\u001b[1;33m(\u001b[0m\u001b[0mcarset\u001b[0m\u001b[1;33m)\u001b[0m\u001b[1;33m\u001b[0m\u001b[1;33m\u001b[0m\u001b[0m\n",
      "\u001b[1;31mKeyError\u001b[0m: 'Tavera'"
     ]
    }
   ],
   "source": [
    "carset = {\"Verna\", \"Innova\", \"EccoSport\"}\n",
    "\n",
    "carset.remove(\"Tavera\")\n",
    "\n",
    "print(carset)"
   ]
  },
  {
   "cell_type": "markdown",
   "metadata": {},
   "source": [
    "#### Remove \"Tavera\" by using the discard() method:"
   ]
  },
  {
   "cell_type": "code",
   "execution_count": 61,
   "metadata": {},
   "outputs": [
    {
     "name": "stdout",
     "output_type": "stream",
     "text": [
      "{'EccoSport', 'Verna', 'Innova'}\n"
     ]
    }
   ],
   "source": [
    "carset = {\"Verna\", \"Innova\", \"EccoSport\"}\n",
    "\n",
    "carset.discard(\"Tavera\")\n",
    "\n",
    "print(carset)"
   ]
  },
  {
   "cell_type": "markdown",
   "metadata": {},
   "source": [
    "#### Note: If the item to remove does not exist, discard() will NOT raise an error."
   ]
  },
  {
   "cell_type": "code",
   "execution_count": 62,
   "metadata": {},
   "outputs": [
    {
     "name": "stdout",
     "output_type": "stream",
     "text": [
      "Intial Set: \n",
      "{1, 2, 3, 4, 5, 6, 7, 8, 9, 10, 11, 12}\n",
      "\n",
      "Set after Removal of two elements: \n",
      "{1, 2, 3, 4, 7, 8, 9, 10, 11, 12}\n",
      "\n",
      "Set after Discarding two elements: \n",
      "{1, 2, 3, 4, 7, 10, 11, 12}\n",
      "\n",
      "Set after Removing a range of elements: \n",
      "{7, 10, 11, 12}\n"
     ]
    }
   ],
   "source": [
    "# Python program to demonstrate \n",
    "# Deletion of elements in a Set \n",
    "\n",
    "# Creating a Set \n",
    "set1 = set([1, 2, 3, 4, 5, 6, 7, 8, 9, 10, 11, 12]) \n",
    "print(\"Intial Set: \") \n",
    "print(set1) \n",
    "\n",
    "# Removing elements from Set \n",
    "# using Remove() method \n",
    "set1.remove(5) \n",
    "set1.remove(6) \n",
    "print(\"\\nSet after Removal of two elements: \") \n",
    "print(set1) \n",
    "\n",
    "# Removing elements from Set \n",
    "# using Discard() method \n",
    "set1.discard(8) \n",
    "set1.discard(9) \n",
    "print(\"\\nSet after Discarding two elements: \") \n",
    "print(set1) \n",
    "\n",
    "# Removing elements from Set \n",
    "# using iterator method \n",
    "for i in range(1, 5): \n",
    "    set1.remove(i) \n",
    "print(\"\\nSet after Removing a range of elements: \") \n",
    "print(set1) \n"
   ]
  },
  {
   "cell_type": "markdown",
   "metadata": {},
   "source": [
    "## Example\n",
    "#### Remove the last item by using the pop() method:"
   ]
  },
  {
   "cell_type": "code",
   "execution_count": 64,
   "metadata": {},
   "outputs": [
    {
     "name": "stdout",
     "output_type": "stream",
     "text": [
      "Brezza\n",
      "{'Verna', 'WagonR'}\n"
     ]
    }
   ],
   "source": [
    "carset = {\"WagonR\", \"Verna\", \"Brezza\"}\n",
    "\n",
    "x = carset.pop()\n",
    "\n",
    "print(x) #removed item\n",
    "\n",
    "print(carset) #the set after removal"
   ]
  },
  {
   "cell_type": "markdown",
   "metadata": {},
   "source": [
    "***Note: Sets are unordered, so when using the pop() method, you will not know which item that gets removed.***"
   ]
  },
  {
   "cell_type": "code",
   "execution_count": 65,
   "metadata": {},
   "outputs": [
    {
     "name": "stdout",
     "output_type": "stream",
     "text": [
      "Intial Set: \n",
      "{1, 2, 3, 4, 5, 6, 7, 8, 9, 10, 11, 12}\n",
      "\n",
      "Set after popping an element: \n",
      "{2, 3, 4, 5, 6, 7, 8, 9, 10, 11, 12}\n"
     ]
    }
   ],
   "source": [
    "# Python program to demonstrate \n",
    "# Deletion of elements in a Set \n",
    "\n",
    "# Creating a Set \n",
    "set1 = set([1, 2, 3, 4, 5, 6, \n",
    "\t\t\t7, 8, 9, 10, 11, 12]) \n",
    "print(\"Intial Set: \") \n",
    "print(set1) \n",
    "\n",
    "# Removing element from the \n",
    "# Set using the pop() method \n",
    "set1.pop() \n",
    "print(\"\\nSet after popping an element: \") \n",
    "print(set1) \n"
   ]
  },
  {
   "cell_type": "markdown",
   "metadata": {},
   "source": [
    "#### Using clear() method\n",
    "#### The clear() method empties the set:"
   ]
  },
  {
   "cell_type": "code",
   "execution_count": 66,
   "metadata": {},
   "outputs": [
    {
     "name": "stdout",
     "output_type": "stream",
     "text": [
      "set()\n"
     ]
    }
   ],
   "source": [
    "carset = {\"Verna\", \"Innova\", \"EccoSport\"}\n",
    "\n",
    "carset.clear()\n",
    "\n",
    "print(carset)\n"
   ]
  },
  {
   "cell_type": "markdown",
   "metadata": {},
   "source": [
    "## Using del() : \n",
    "#### The del keyword will delete the set completely:"
   ]
  },
  {
   "cell_type": "code",
   "execution_count": 67,
   "metadata": {},
   "outputs": [
    {
     "ename": "NameError",
     "evalue": "name 'carset' is not defined",
     "output_type": "error",
     "traceback": [
      "\u001b[1;31m---------------------------------------------------------------------------\u001b[0m",
      "\u001b[1;31mNameError\u001b[0m                                 Traceback (most recent call last)",
      "\u001b[1;32m<ipython-input-67-05707aa36a4e>\u001b[0m in \u001b[0;36m<module>\u001b[1;34m\u001b[0m\n\u001b[0;32m      3\u001b[0m \u001b[1;32mdel\u001b[0m \u001b[0mcarset\u001b[0m\u001b[1;33m\u001b[0m\u001b[1;33m\u001b[0m\u001b[0m\n\u001b[0;32m      4\u001b[0m \u001b[1;33m\u001b[0m\u001b[0m\n\u001b[1;32m----> 5\u001b[1;33m \u001b[0mprint\u001b[0m\u001b[1;33m(\u001b[0m\u001b[0mcarset\u001b[0m\u001b[1;33m)\u001b[0m\u001b[1;33m\u001b[0m\u001b[1;33m\u001b[0m\u001b[0m\n\u001b[0m",
      "\u001b[1;31mNameError\u001b[0m: name 'carset' is not defined"
     ]
    }
   ],
   "source": [
    "carset = {\"Verna\", \"Innova\", \"EccoSport\"}\n",
    "\n",
    "del carset\n",
    "\n",
    "print(carset)"
   ]
  },
  {
   "cell_type": "markdown",
   "metadata": {},
   "source": [
    "## Join Two Sets"
   ]
  },
  {
   "cell_type": "code",
   "execution_count": 69,
   "metadata": {},
   "outputs": [
    {
     "name": "stdout",
     "output_type": "stream",
     "text": [
      "{1, 2, 3, 'Baleno', 'Brezza', 'Swift'}\n"
     ]
    }
   ],
   "source": [
    "set1 = {\"Swift\", \"Brezza\" , \"Baleno\"}\n",
    "set2 = {1, 2, 3}\n",
    "\n",
    "set3 = set1.union(set2)\n",
    "print(set3)\n"
   ]
  },
  {
   "cell_type": "markdown",
   "metadata": {},
   "source": [
    "#### update() : "
   ]
  },
  {
   "cell_type": "code",
   "execution_count": 70,
   "metadata": {},
   "outputs": [
    {
     "name": "stdout",
     "output_type": "stream",
     "text": [
      "{1, 2, 3, 'Baleno', 'Brezza', 'Swift'}\n"
     ]
    }
   ],
   "source": [
    "set1 = {\"Swift\", \"Brezza\" , \"Baleno\"}\n",
    "set2 = {1, 2, 3}\n",
    "\n",
    "set1.update(set2)\n",
    "print(set1)\n"
   ]
  }
 ],
 "metadata": {
  "kernelspec": {
   "display_name": "Python 3",
   "language": "python",
   "name": "python3"
  },
  "language_info": {
   "codemirror_mode": {
    "name": "ipython",
    "version": 3
   },
   "file_extension": ".py",
   "mimetype": "text/x-python",
   "name": "python",
   "nbconvert_exporter": "python",
   "pygments_lexer": "ipython3",
   "version": "3.8.6rc1"
  }
 },
 "nbformat": 4,
 "nbformat_minor": 4
}
